{
 "cells": [
  {
   "cell_type": "code",
   "execution_count": null,
   "metadata": {},
   "outputs": [],
   "source": [
    "# Input any OneDrive URL \n",
    "onedrive_url = 'Paste here the link you copied from OneDrive'\n",
    "\n",
    "import numpy as np\n",
    "import pandas as pd\n",
    "import requests, zipfile, io,base64\n",
    "\n",
    "def create_onedrive_directdownload (onedrive_link):\n",
    "    data_bytes64 = base64.b64encode(bytes(onedrive_link, 'utf-8'))\n",
    "    data_bytes64_String = data_bytes64.decode('utf-8').replace('/','_').replace('+','-').rstrip(\"=\")\n",
    "    resultUrl = f\"https://api.onedrive.com/v1.0/shares/u!{data_bytes64_String}/root/content\"\n",
    "    return resultUrl\n",
    "\n",
    "\n",
    "# Generate Direct Download URL from above Script\n",
    "direct_download_url = create_onedrive_directdownload(onedrive_url)\n",
    "\n",
    "\n",
    "r = requests.get(direct_download_url)\n",
    "z = zipfile.ZipFile(io.BytesIO(r.content))\n",
    "df = pd.read_json(z.extract('Takeout/My Activity/Search/My Activity.json')).loc[:,['title','titleUrl','time']]\n",
    "\n",
    "# You might want to change to your Time Zone\n",
    "df['time'] = pd.to_datetime(df.time,infer_datetime_format=True,utc=True).dt.tz_convert('Europe/Copenhagen')\n",
    "# Create a date column\n",
    "df.loc[:,'date'] = pd.to_datetime(df['time']).dt.date\n",
    "\n",
    "# Create a column for Visited and Searched for \n",
    "df = df.assign(action= lambda x: np.select(\n",
    "    [x.title.str.startswith('Visited'),\n",
    "     x.title.str.startswith('Searched for')],\n",
    "    ['Visited','Searched for']))#.query(\"action=='0'\")\n",
    "\n",
    "# Extract only the text without (Visited & Searched for)\n",
    "df = df.assign(text= lambda x: np.select(\n",
    "    [x.title.str.startswith('Visited'),\n",
    "     x.title.str.startswith('Searched for')],\n",
    "    [x.title.str[8:],x.title.str[13:]]))\n",
    "\n",
    "# Get length of text field\n",
    "df = df.assign(text_len = lambda x: x.text.str.len())    \n",
    "\n",
    "# Get first word form each Searched for row\n",
    "df['first_word'] = np.where(df.action == 'Searched for',df.text.str.partition(' ')[0],None)"
   ]
  }
 ],
 "metadata": {
  "kernelspec": {
   "display_name": "Python 3",
   "language": "python",
   "name": "python3"
  },
  "language_info": {
   "codemirror_mode": {
    "name": "ipython",
    "version": 3
   },
   "file_extension": ".py",
   "mimetype": "text/x-python",
   "name": "python",
   "nbconvert_exporter": "python",
   "pygments_lexer": "ipython3",
   "version": "3.8.5"
  }
 },
 "nbformat": 4,
 "nbformat_minor": 4
}
